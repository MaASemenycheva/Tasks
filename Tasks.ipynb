{
 "cells": [
  {
   "cell_type": "markdown",
   "id": "0cdc2bee",
   "metadata": {},
   "source": [
    "# Задача:"
   ]
  },
  {
   "cell_type": "markdown",
   "id": "35a27ecd",
   "metadata": {},
   "source": [
    "# Fastapi+swagger+docker\n",
    "Python backend на FastAPI с базой данных Postgres + Swagger UI \n",
    "\n",
    "\n",
    "## Запуск\n",
    "\n",
    "Экспорт необходимых переменных среды из файла postgres.env\n",
    "```bash\n",
    "source set_env.sh\n",
    "```\n",
    "\n",
    "Команда ниже создает локальный каталог с именем `postgres_data` в папке postgres, который связан с томом докера postgres для сохранения данных:\n",
    "```bash\n",
    "mkdir postgres/postgres_data\n",
    "```\n",
    "\n",
    "Серверная часть fastapi и службы postgres запускаются с помощью следующей команды:\n",
    "```bash\n",
    "docker compose up -d\n",
    "```\n",
    "\n",
    "Серверную часть fastapi и службы postgres можно остановить с помощью следующей команды:\n",
    "```bash\n",
    "docker compose down\n",
    "```\n",
    "\n",
    "## Детали конфигурации\n",
    "Контейнер службы Postgres размещен на порту «5432», а серверная служба fastapi — на порту «8000». Во время тестирования службы убедитесь, что эти два порта свободны.\n",
    "\n",
    "## Тестирование локального клиента\n",
    "\n",
    "Нажмите [здесь](http://127.0.0.1:8000/docs#), чтобы открыть UI Swagger, созданный для локального тестирования endpoint-ов службы fastapi. Список endpoint-ов, доступных в API, приведен ниже:\n",
    "\n",
    "\n",
    "\n",
    "|Endpoint | Цель                                                                          |\n",
    "| ------- |-------------------------------------------------------------------------------|\n",
    "|/        | Endpoint для перехода на домашнюю страницу                                    |\n",
    "|/health  | Endpoint, чтобы проверить состояние бэкэнда и службы Postgres                 |\n",
    "|/fetch   | Endpoint для получения статей без комментариев из таблицы Postgres            |\n",
    "|/nrows   | Endpoint для получения количества статей без комментариев из таблицы Postgres |\n",
    "\n",
    "## Проверка журналов\n",
    "Замените <CONTAINER_NAME> в приведенной ниже команде именем или тегом контейнера службы FastAPI, чтобы проверить `последние 10 журналов`:\n",
    "\n",
    "\n",
    "```bash\n",
    "docker logs -f --tail 10 <CONTAINER_NAME>\n",
    "```\n",
    "\n",
    "## Скрины\n",
    "\n",
    "\n",
    "Возвращает основную информацию о сервисе:\n",
    "\n",
    "<img src=\"2023-09-24_17-34-36.png\" alt=\"Возвращает основную информацию о сервисе\"/>\n",
    "\n",
    "dict: словарь со статусами бэкенда и Postgres. Если резервная копия находится в автономном режиме, мы получим внутреннюю ошибку сервера.\n",
    "\n",
    "<img src=\"2023-09-24_17-35-12.png\" alt=\"Словарь со статусами бэкенда и Postgres\"/>\n",
    "\n",
    "Endpoint, ответственный за получение статей без комментариев из таблицы:\n",
    "<img src=\"2023-09-24_17-35-29.png\" alt=\"Endpoint, ответственный за получение статей без комментариев из таблицы\"/>\n",
    "\n",
    "Endpoint, ответственный за получение количества статей без комментариев из таблицы:\n",
    "\n",
    "<img src=\"2023-09-24_17-35-45.png\" alt=\"Endpoint, ответственный за получение количества статей без комментариев из таблицы\"/>\n",
    "\n",
    "Логи:\n",
    "\n",
    "<img src=\"2023-09-24_17-37-41.png\" alt=\"Логи\"/>\n",
    "\n",
    "Содержимое  того, что содержится в контейнеризированной базе:\n",
    "\n",
    "<img src=\"2023-09-24_17-59-00.png\" alt=\"Содержимое  того, что содержится в контейнеризированной базе\"/>\n",
    "\n",
    "Статьи без комментариев:\n",
    "\n",
    "<img src=\"2023-09-24_18-01-00.png\" alt=\"Статьи без комментариев\"/>\n",
    "\n",
    "Docker-контейнеры:\n",
    "\n",
    "<img src=\"2023-09-24_18-06-00.png\" alt=\"Docker-контейнеры\"/>\n"
   ]
  },
  {
   "cell_type": "markdown",
   "id": "591c2592",
   "metadata": {},
   "source": [
    "# <h1>Задача:</h1>\n",
    "\n",
    "Входные данные:\n",
    "\n",
    "\n",
    "<b>Андрей 9\n",
    "\n",
    "<b>Василий 11\n",
    "\n",
    "<b>Роман 7\n",
    "\n",
    "<b>FSÆA-42 45\n",
    "\n",
    "<b>Иван Петров 3\n",
    "\n",
    "<b>...\n",
    "    \n",
    "<b>Андрей 6\n",
    "    \n",
    "<b>Роман 11\n",
    "    \n",
    "<b>...\n",
    "\n",
    "\n",
    "Выходные данные:\n",
    "    \n",
    "<b>Андрей: 9, 6; sum: 15\n",
    "    \n",
    "<b>Василий: 11; sum: 11\n",
    "    \n",
    "<b>Роман: 7, 11: sum: 18\n",
    "    \n",
    "<b>Иван Петров: 3: sum: 3\n",
    "    \n",
    "<b>..."
   ]
  },
  {
   "cell_type": "code",
   "execution_count": 1,
   "id": "5fbf8fa6",
   "metadata": {},
   "outputs": [
    {
     "name": "stdout",
     "output_type": "stream",
     "text": [
      "Входные данные: \n",
      "\n",
      "Андрей 9\n",
      "\n",
      "Василий 11\n",
      "\n",
      "Роман 7\n",
      "\n",
      "FSÆA-42 45 45\n",
      "\n",
      "Иван Петров 3\n",
      "\n",
      "Андрей 6\n",
      "\n",
      "Роман 11\n",
      "\n"
     ]
    }
   ],
   "source": [
    "import io\n",
    "import re\n",
    "\n",
    "path = 'C:\\\\Users\\\\maria\\\\Desktop\\\\data.txt'\n",
    "\n",
    "with io.open(path, encoding='utf-8') as file:\n",
    "    print(\"Входные данные: \\n\")\n",
    "    [print(line) for line in file]\n",
    "        "
   ]
  },
  {
   "cell_type": "code",
   "execution_count": 2,
   "id": "8bb701e9",
   "metadata": {},
   "outputs": [],
   "source": [
    "import io\n",
    "import re "
   ]
  },
  {
   "cell_type": "code",
   "execution_count": 3,
   "id": "18caed25",
   "metadata": {},
   "outputs": [],
   "source": [
    "path = 'C:\\\\Users\\\\maria\\\\Desktop\\\\data.txt'\n",
    "\n",
    "def hasСyrillic(text):\n",
    "    return bool(re.search('[а-яА-Я]', text))\n",
    "\n",
    "def templateСheck(shift_string):\n",
    "    try:\n",
    "        pattern = r'(.+) (\\d+)'\n",
    "        match = re.match(pattern, shift_string)\n",
    "    except ValueError:\n",
    "        print(\"invalid line\")\n",
    "    return (match.group(1), int(match.group(2)))"
   ]
  },
  {
   "cell_type": "code",
   "execution_count": 4,
   "id": "ecd532ca",
   "metadata": {},
   "outputs": [],
   "source": [
    "class WritingOffTimeService: \n",
    "    def __init__(self):\n",
    "        self.nameAndTime = {}\n",
    "        \n",
    "    def addingToDictionary(self, name, time):\n",
    "        try:\n",
    "            self.nameAndTime[name].append(time)\n",
    "        except KeyError:\n",
    "            self.nameAndTime[name] = [time]\n",
    "            \n",
    "    def getSumByName(self, name):\n",
    "        return sum(self.nameAndTime[name])\n",
    "    \n",
    "    def getInformation(self):\n",
    "        return [self.getInfoByName(name) for name in self.nameAndTime]\n",
    "    \n",
    "    def getInfoByName(self, name):\n",
    "        return name, self.nameAndTime[name], self.getSumByName(name)\n",
    "    \n",
    "    def formattedPrint(self, data):\n",
    "        [print(info[0],', ' .join(map(str, info[1])), \"; sum:\", info[2]) for info in data]\n",
    "            "
   ]
  },
  {
   "cell_type": "code",
   "execution_count": 5,
   "id": "d84d6360",
   "metadata": {},
   "outputs": [
    {
     "name": "stdout",
     "output_type": "stream",
     "text": [
      "Андрей 9, 6 ; sum: 15\n",
      "Василий 11 ; sum: 11\n",
      "Роман 7, 11 ; sum: 18\n",
      "Иван Петров 3 ; sum: 3\n"
     ]
    }
   ],
   "source": [
    "service = WritingOffTimeService()\n",
    "with io.open(path, encoding='utf-8') as file:\n",
    "    for line in file:\n",
    "        try:\n",
    "            clearData = templateСheck(line)\n",
    "            if hasСyrillic(clearData[0]):\n",
    "                service.addingToDictionary(clearData[0], clearData[1])\n",
    "        except KeyError:\n",
    "            continue\n",
    "information = service.getInformation()\n",
    "service.formattedPrint(information)\n"
   ]
  },
  {
   "cell_type": "markdown",
   "id": "9d991b9b",
   "metadata": {},
   "source": [
    "Задача\n",
    "\n",
    "Написать функцию flatten, которая выполняет преобразование переданного массива с вложенными массивами в плоский список\n",
    "\n",
    "data = [[1, 2], 3, 4, 5]"
   ]
  },
  {
   "cell_type": "code",
   "execution_count": 3,
   "id": "b582c915",
   "metadata": {},
   "outputs": [
    {
     "name": "stdout",
     "output_type": "stream",
     "text": [
      "flatten List: [[1, 2], 3, 4, 5]\n",
      "Converted Flat List: [1, 2, 3, 4, 5]\n"
     ]
    }
   ],
   "source": [
    "data = [[1, 2], 3, 4, [5]]\n",
    "def flattenlist(_2dlist): \n",
    "    flatlist = [] \n",
    "    for item in _2dlist: \n",
    "        if type(item) is list: \n",
    "            for element in item: \n",
    "                flatlist.append(element) \n",
    "        else: \n",
    "            flatlist.append(item) \n",
    "    return flatlist \n",
    " \n",
    "# defining the nested list \n",
    "# nestedlist = [[10, 20, 30, 40], [50, 60, 70], [80, 90, 100]] \n",
    "nestedlist = [[1, 2], 3, 4, 5]\n",
    "print('flatten List:', nestedlist) \n",
    "print('Converted Flat List:', flattenlist(nestedlist)) "
   ]
  },
  {
   "cell_type": "markdown",
   "id": "fa8795cf",
   "metadata": {},
   "source": [
    "Задача\n",
    "\n",
    "Написать функцию sum, которая возвращает сумму переданных аргументов. Может вызываться несколько раз подряд. И при вызове без аргуметов должна вызываться сумма. \n",
    "sum(1)(2)(3,4)() #10"
   ]
  },
  {
   "cell_type": "code",
   "execution_count": 5,
   "id": "9d513b19",
   "metadata": {},
   "outputs": [
    {
     "name": "stdout",
     "output_type": "stream",
     "text": [
      "1\n",
      "1\n",
      "2\n",
      "5\n",
      "sum_of_numbers: 9\n"
     ]
    }
   ],
   "source": [
    "sum_of_numbers = 0\n",
    "\n",
    "\n",
    "def sum(*args):\n",
    "    global sum_of_numbers\n",
    "    for i in args:\n",
    "        print(i)\n",
    "        sum_of_numbers += i\n",
    "sum(1,1)  \n",
    "sum(2)\n",
    "sum(5)\n",
    "print(\"sum_of_numbers:\", sum_of_numbers)  "
   ]
  },
  {
   "cell_type": "markdown",
   "id": "d753bdc0",
   "metadata": {},
   "source": [
    "Задача \n",
    "\n",
    "Написать планировщик задач, который позволит накапливать задачи, и затем выполнять их параллельно."
   ]
  },
  {
   "cell_type": "code",
   "execution_count": 10,
   "id": "0858e9cd",
   "metadata": {},
   "outputs": [],
   "source": [
    "import asyncio\n",
    "import time\n",
    "\n",
    "class TaskScheduler:   \n",
    "    def __init__(self):\n",
    "        self.coroutines_list = []\n",
    "        self.result = []\n",
    "    \n",
    "    def add_task(self, coroutine):\n",
    "        self.coroutines_list.append(coroutine)\n",
    "    \n",
    "    async def run_parallel(self):\n",
    "#         for coroutine in self.coroutines_list:\n",
    "#             task111 = asyncio.create_task(coroutine)\n",
    "#             await task111\n",
    "# or\n",
    "#         for coroutine in self.coroutines_list:\n",
    "#             async with asyncio.TaskGroup() as tg:\n",
    "#                 task1 = tg.create_task(coroutine)\n",
    "#                 await task1  \n",
    "# or\n",
    "        # Schedule two calls *concurrently*:\n",
    "            L = await asyncio.gather(\n",
    "                self.coroutines_list[0],\n",
    "                self.coroutines_list[1]\n",
    "            )\n",
    "            self.result = L\n",
    "            print(L)\n",
    "                \n",
    "\n",
    "        \n",
    "\n",
    "    def get_results(self):\n",
    "        return self.result"
   ]
  },
  {
   "cell_type": "code",
   "execution_count": 11,
   "id": "9679e416",
   "metadata": {},
   "outputs": [
    {
     "name": "stderr",
     "output_type": "stream",
     "text": [
      "C:\\Users\\maria\\AppData\\Local\\Temp\\ipykernel_9872\\2771242642.py:9: RuntimeWarning: coroutine 'task2' was never awaited\n",
      "  scheduler = TaskScheduler()\n",
      "RuntimeWarning: Enable tracemalloc to get the object allocation traceback\n",
      "C:\\Users\\maria\\AppData\\Local\\Temp\\ipykernel_9872\\2771242642.py:9: RuntimeWarning: coroutine 'task1' was never awaited\n",
      "  scheduler = TaskScheduler()\n",
      "RuntimeWarning: Enable tracemalloc to get the object allocation traceback\n"
     ]
    },
    {
     "name": "stdout",
     "output_type": "stream",
     "text": [
      "started at 13:05:51\n",
      "['Task 1 result', 'Task 2 result']\n",
      "finished at 13:05:53\n",
      "=========================\n",
      "\n",
      "result ['Task 1 result', 'Task 2 result']\n"
     ]
    }
   ],
   "source": [
    "async def task1():\n",
    "    await asyncio.sleep(1)\n",
    "    return 'Task 1 result'\n",
    "\n",
    "async def task2():\n",
    "    await asyncio.sleep(2)\n",
    "    return 'Task 2 result'\n",
    "\n",
    "scheduler = TaskScheduler()\n",
    "scheduler.add_task(task1())\n",
    "scheduler.add_task(task2())\n",
    "\n",
    "print(f\"started at {time.strftime('%X')}\")\n",
    "await scheduler.run_parallel()\n",
    "print(f\"finished at {time.strftime('%X')}\")\n",
    "\n",
    "print(f\"=========================\\n\")\n",
    "\n",
    "result =  scheduler.get_results()\n",
    "print(\"result\", result)"
   ]
  },
  {
   "cell_type": "code",
   "execution_count": null,
   "id": "582daf5d",
   "metadata": {},
   "outputs": [],
   "source": []
  }
 ],
 "metadata": {
  "kernelspec": {
   "display_name": "Python 3 (ipykernel)",
   "language": "python",
   "name": "python3"
  },
  "language_info": {
   "codemirror_mode": {
    "name": "ipython",
    "version": 3
   },
   "file_extension": ".py",
   "mimetype": "text/x-python",
   "name": "python",
   "nbconvert_exporter": "python",
   "pygments_lexer": "ipython3",
   "version": "3.11.3"
  }
 },
 "nbformat": 4,
 "nbformat_minor": 5
}
